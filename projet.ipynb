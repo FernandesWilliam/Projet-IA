{
 "cells": [
  {
   "cell_type": "code",
   "execution_count": null,
   "metadata": {
    "collapsed": true
   },
   "outputs": [],
   "source": [
    "import imageio\n",
    "import numpy as np\n",
    "import gym\n",
    "from gym.utils.play import play"
   ]
  },
  {
   "cell_type": "markdown",
   "source": [
    "After analyzing the image game we found :\n",
    "    - image 210 x 160 x 3\n",
    "    - ball 4 x 2\n",
    "    - pad 4 * 16\n",
    "\n",
    "We have decided to consider the game like a pong prototype, our goal is to send back the ball.\n",
    "As we decided to use Q-learning. Our training are made from a discrete environment.\n",
    "We first have to reduce our environment :\n",
    "Only keep bottom from the paddle and before the first breakable block (see image -> ....)"
   ],
   "metadata": {
    "collapsed": false
   }
  },
  {
   "cell_type": "code",
   "execution_count": 1,
   "outputs": [
    {
     "name": "stdout",
     "output_type": "stream",
     "text": [
      "pygame 2.1.2 (SDL 2.0.18, Python 3.9.10)\n",
      "Hello from the pygame community. https://www.pygame.org/contribute.html\n"
     ]
    },
    {
     "name": "stderr",
     "output_type": "stream",
     "text": [
      "/usr/local/lib/python3.9/site-packages/gym/utils/play.py:11: UserWarning: \u001B[33mWARN: failed to set matplotlib backend, plotting will not work: No module named '_tkinter'\u001B[0m\n",
      "  logger.warn(\"failed to set matplotlib backend, plotting will not work: %s\" % str(e))\n",
      "A.L.E: Arcade Learning Environment (version 0.7.4+069f8bd)\n",
      "[Powered by Stella]\n"
     ]
    }
   ],
   "source": [
    "def callback(obs_t, obs_tp1, action, rew, done, info) :\n",
    "    # image  60 x 72 x 1 color.\n",
    "    imageio.imwrite('outfile1.png', obs_t[94:194:2, 8:152:2, 1])\n",
    "\n",
    "env = gym.make('Breakout-v0')\n",
    "play(env, zoom=3, fps=12, callback=callback)\n",
    "env.reset()\n",
    "env.close()"
   ],
   "metadata": {
    "collapsed": false,
    "pycharm": {
     "name": "#%%\n"
    }
   }
  },
  {
   "cell_type": "markdown",
   "source": [
    "After reduction,we have:\n",
    "   - image ->  60 x 72 x 1\n",
    "   - ball 2 x 1\n",
    "   - pad 2 * 8"
   ],
   "metadata": {
    "collapsed": false
   }
  },
  {
   "cell_type": "markdown",
   "source": [
    "Our Q state is composed of :\n",
    "       B - ball position\n",
    "       P - pad position\n",
    "       A - action possible : 3  ( left , stay , right )\n",
    "       D - direction\n",
    "N  = BxQxNxD\n",
    "The final goal will be to try with different composition of B P D . In the aim to find which discretization is more efficiant"
   ],
   "metadata": {
    "collapsed": false
   }
  },
  {
   "cell_type": "markdown",
   "source": [
    "Before generalization. Let's make a first example.\n",
    "We discretize our image :\n",
    "60 and 72 can be divided both by 12.\n",
    "For the direction of the ball we take 4 directions, bottom left - bottom right - top left - top right\n",
    "Our Q state is composed of :\n",
    "       B - ball position :  5 x 6 position = 30\n",
    "       P - pad position : 6 position only horizontal\n",
    "       A - action possible : 3  ( left , stay , right )\n",
    "       D - direction  : 4\n",
    "N = 30 x 6 x 3 x 4 = 2160"
   ],
   "metadata": {
    "collapsed": false
   }
  },
  {
   "cell_type": "code",
   "execution_count": null,
   "outputs": [],
   "source": [
    "import numpy as np\n",
    "B = 30\n",
    "P = 6\n",
    "A = 3\n",
    "D = 4 #  considering : 0 top-left  1 top right ...\n",
    "Q = np.zeros((P,B,D,A),dtype=float)\n",
    "# x,y,direction\n",
    "\n",
    "# iterations\n",
    "N= 10000\n",
    "\n",
    "for i in range(N):\n",
    "    ## Instanciate the pad here \n",
    "    xPad = 2\n",
    "    xBall,yBall,dirBall = 2,2,0\n",
    "    while yBall != 0 :\n",
    "        ...\n",
    "    #find the index of the max of the line of Q_state\n",
    "    #indexesMax = np.where(Q[xPad][] == max(Q_state[x_state][y_state]))[0]\n"
   ],
   "metadata": {
    "collapsed": false,
    "pycharm": {
     "name": "#%%\n"
    }
   }
  },
  {
   "cell_type": "code",
   "execution_count": null,
   "outputs": [],
   "source": [
    "def Qlearning(B,P,A,D,ballPos):\n",
    "    ...\n",
    "def direction(direction):\n",
    "    #return {i:360/direction}\n",
    "    ...\n"
   ],
   "metadata": {
    "collapsed": false,
    "pycharm": {
     "name": "#%%\n"
    }
   }
  }
 ],
 "metadata": {
  "kernelspec": {
   "display_name": "Python 3",
   "language": "python",
   "name": "python3"
  },
  "language_info": {
   "codemirror_mode": {
    "name": "ipython",
    "version": 2
   },
   "file_extension": ".py",
   "mimetype": "text/x-python",
   "name": "python",
   "nbconvert_exporter": "python",
   "pygments_lexer": "ipython2",
   "version": "2.7.6"
  }
 },
 "nbformat": 4,
 "nbformat_minor": 0
}