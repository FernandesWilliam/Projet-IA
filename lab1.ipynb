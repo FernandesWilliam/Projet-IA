{
 "cells": [
  {
   "cell_type": "markdown",
   "metadata": {},
   "source": [
    "1D "
   ]
  },
  {
   "cell_type": "code",
   "execution_count": 1,
   "metadata": {},
   "outputs": [
    {
     "name": "stdout",
     "output_type": "stream",
     "text": [
      "[[ 0.     0.   ]\n",
      " [-1.     0.997]\n",
      " [ 0.996  0.998]\n",
      " [ 0.997  0.999]\n",
      " [ 0.998  1.   ]\n",
      " [ 0.     0.   ]]\n"
     ]
    }
   ],
   "source": [
    "import numpy as np\n",
    "import random \n",
    "\n",
    "\n",
    "# function to know where to move \n",
    "def e_greedy(epsilon,indexMax):\n",
    "    r = random.random()\n",
    "    if r < epsilon : \n",
    "        #2 move on Q_state => 0 for left 1 for right \n",
    "        return random.choice([0,1])\n",
    "    else :\n",
    "        # return the max index on Q line \n",
    "        return indexMax\n",
    "\n",
    "def getReward(state,cost):\n",
    "    if state in [0,5]:\n",
    "        return -1 if state ==0 else 1\n",
    "    else :\n",
    "        return cost\n",
    "\n",
    "\n",
    "# init alpha, gamma and epsilon \n",
    "alpha  = 0.9\n",
    "gamma = 0.9 \n",
    "epsilon = 1 \n",
    "move_cost = -0.001\n",
    "#init Q_state = S -> 6 different state * A 2 different movement \n",
    "Q_state = np.zeros((6,2),dtype=float)\n",
    "\n",
    "\n",
    "#number of iteration \n",
    "N = 100\n",
    "for i in range(N): \n",
    "\n",
    "    current_state = 2\n",
    "    while current_state != 0 and current_state!= 5: \n",
    "        #find the index of the max of the line of Q_state\n",
    "        indexMax = np.where(Q_state[current_state] == max(Q_state[current_state]))[0][0]\n",
    "\n",
    "        #generate action to do \n",
    "        action = e_greedy(epsilon, indexMax)\n",
    "        #move epsilon , in the aim to use the best action to do \n",
    "        epsilon += move_cost\n",
    "        \n",
    "        new_state = current_state + (-1 if action == 0 else action)\n",
    "   \n",
    "        reward = getReward(new_state, move_cost)\n",
    "    \n",
    "        Q_state[current_state,action] += alpha * (reward + max(Q_state[new_state]) -  Q_state[current_state, action] ) \n",
    "        current_state = new_state\n",
    "\n",
    "print(Q_state)"
   ]
  },
  {
   "cell_type": "markdown",
   "metadata": {},
   "source": [
    "2D"
   ]
  },
  {
   "cell_type": "code",
   "execution_count": 2,
   "metadata": {},
   "outputs": [
    {
     "name": "stdout",
     "output_type": "stream",
     "text": [
      "[[[-0.113796   -0.079164   -0.108       0.87503108]\n",
      "  [-0.072      -0.072      -0.0755964   0.95800914]\n",
      "  [-0.036      -0.036      -0.036       1.        ]\n",
      "  [ 0.          0.          0.          0.        ]]\n",
      "\n",
      " [[-0.1401768   0.53733496 -0.11484    -0.144     ]\n",
      "  [ 0.          0.          0.          0.        ]\n",
      "  [-0.036       0.96       -0.036      -0.9       ]\n",
      "  [ 0.          0.          0.          0.        ]]\n",
      "\n",
      " [[-0.14767524 -0.14472393 -0.14472396  0.84      ]\n",
      "  [-0.11196    -0.1083996  -0.11123964  0.88      ]\n",
      "  [-0.0756      0.92       -0.07164    -0.03996   ]\n",
      "  [-0.036      -0.99       -0.07164     0.        ]]]\n"
     ]
    }
   ],
   "source": [
    "import numpy as np\n",
    "import random \n",
    "\n",
    "\n",
    "# 0 TOP 1 DOWN 2 LEFT 3 RIGHT \n",
    "\n",
    "# function to know where to move \n",
    "def e_greedy(epsilon,indexesMax):\n",
    "    r = random.random()\n",
    "    if r < epsilon : \n",
    "        #2 move on Q_state =>  0 TOP 1 DOWN 2 LEFT 3 RIGHT \n",
    "        return random.choice([0,1,2,3])\n",
    "    else :\n",
    "        # return the max index on Q line \n",
    "        return random.choice(indexesMax)\n",
    "\n",
    "def getReward(state,cost):\n",
    "    if state in [(0,3),(1,3)]:\n",
    "        return -1 if state ==(1,3) else 1\n",
    "    else :\n",
    "        return cost\n",
    "\n",
    "Q_state = np.zeros((3,4,4), dtype=float)\n",
    "\n",
    "alpha  = 0.9\n",
    "gamma = 0.9 \n",
    "epsilon = 1 \n",
    "move_cost = - 0.04\n",
    "moves= {\n",
    "    0: lambda x,y: (x+1,y),\n",
    "    1: lambda x,y: (x-1,y),\n",
    "    2: lambda x,y: (x,y-1),\n",
    "    3: lambda x,y: (x,y+1)\n",
    "}\n",
    "obstacle  = (1,1)\n",
    "#number of iteration \n",
    "N = 100\n",
    "for i in range(N): \n",
    "    #initial position \n",
    "    x_state,y_state = (2,0)\n",
    "    while (x_state,y_state) != (0,3) and  (x_state,y_state) != (1,3):\n",
    "        #find the index of the max of the line of Q_state\n",
    "        indexesMax = np.where(Q_state[x_state][y_state] == max(Q_state[x_state][y_state]))[0]\n",
    "\n",
    "        #generate action to do \n",
    "        action = e_greedy(epsilon, indexesMax)\n",
    "        x_newS,y_newS = moves[action](x_state,y_state)\n",
    "        #if he is blocked he stay at the same position\n",
    "        if (x_newS<0 or x_newS>2) or (y_newS<0 or y_newS>3) or (x_newS,y_newS) == obstacle :\n",
    "            x_newS,y_newS = x_state,y_state\n",
    "    \n",
    "        epsilon += -0.01\n",
    "        reward = getReward((x_newS,y_newS), move_cost)\n",
    "        #Q update\n",
    "        Q_state[x_state][y_state][action] += alpha * (reward + max(Q_state[x_newS][y_newS]) - Q_state[x_state][y_state][action] ) \n",
    "        x_state,y_state  = x_newS,y_newS\n",
    "\n",
    "# I think Q_state isn't completely correct. \n",
    "# Some weird value appears sometime , I think it comes from line 49 , I don't know if it's a good way to say new state == current state\n",
    "# when it is blocked \n",
    "print(Q_state)"
   ]
  }
 ],
 "metadata": {
  "interpreter": {
   "hash": "b460384b52104c1e5b9cf54bee46a255d22b2bef338f75ac4ad5d48196028d3c"
  },
  "kernelspec": {
   "display_name": "Python 3.10.1 64-bit",
   "language": "python",
   "name": "python3"
  },
  "language_info": {
   "codemirror_mode": {
    "name": "ipython",
    "version": 3
   },
   "file_extension": ".py",
   "mimetype": "text/x-python",
   "name": "python",
   "nbconvert_exporter": "python",
   "pygments_lexer": "ipython3",
   "version": "3.10.1"
  },
  "orig_nbformat": 4
 },
 "nbformat": 4,
 "nbformat_minor": 2
}
